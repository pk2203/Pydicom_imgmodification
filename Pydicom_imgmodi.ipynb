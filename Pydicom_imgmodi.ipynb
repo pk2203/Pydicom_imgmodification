{
 "cells": [
  {
   "cell_type": "code",
   "execution_count": 1,
   "metadata": {},
   "outputs": [],
   "source": [
    "import os \n",
    "import matplotlib.pyplot as plt \n",
    "import numpy as np\n",
    "import pandas as pd "
   ]
  },
  {
   "cell_type": "code",
   "execution_count": 3,
   "metadata": {},
   "outputs": [
    {
     "name": "stdout",
     "output_type": "stream",
     "text": [
      "Collecting pydicom\n",
      "  Downloading pydicom-2.3.1-py3-none-any.whl (2.0 MB)\n",
      "Installing collected packages: pydicom\n",
      "Successfully installed pydicom-2.3.1\n",
      "Note: you may need to restart the kernel to use updated packages.\n"
     ]
    }
   ],
   "source": [
    "pip install pydicom"
   ]
  },
  {
   "cell_type": "code",
   "execution_count": 41,
   "metadata": {},
   "outputs": [],
   "source": [
    "import pydicom\n",
    "import gdcm\n",
    "from PIL import Image"
   ]
  },
  {
   "cell_type": "code",
   "execution_count": 49,
   "metadata": {},
   "outputs": [],
   "source": [
    "example = '1459541791.dcm'\n",
    "img = pydicom.dcmread(example)\n",
    "img = img.pixel_array.astype(float)\n",
    "rescaled_img = (np.maximum(img,0)/img.max())*255\n",
    "final_image = np.uint8(rescaled_img)\n",
    "final_img = Image.fromarray(final_image)\n",
    "final_img.show()\n",
    "final_img.save('Compressedimages/1459541791.jpg')"
   ]
  },
  {
   "cell_type": "code",
   "execution_count": 52,
   "metadata": {},
   "outputs": [],
   "source": [
    "example2 = '1222743534.dcm/1222743534.dcm'\n",
    "img2 = pydicom.dcmread(example2)\n",
    "img = img2.pixel_array.astype(float)\n",
    "rescaled_img = (np.maximum(img,0)/img.max())*255\n",
    "final_image = np.uint8(rescaled_img)\n",
    "final_img = Image.fromarray(final_image)\n",
    "final_img.show()\n",
    "final_img.save('Compressedimages/1222743534.jpg')"
   ]
  },
  {
   "cell_type": "code",
   "execution_count": null,
   "metadata": {},
   "outputs": [],
   "source": [
    "if imgdata.file_meta.TransferSyntaxUID.name != 'Uncompressed':\n",
    "    print"
   ]
  }
 ],
 "metadata": {
  "kernelspec": {
   "display_name": "Python 3",
   "language": "python",
   "name": "python3"
  },
  "language_info": {
   "codemirror_mode": {
    "name": "ipython",
    "version": 3
   },
   "file_extension": ".py",
   "mimetype": "text/x-python",
   "name": "python",
   "nbconvert_exporter": "python",
   "pygments_lexer": "ipython3",
   "version": "3.8.3"
  }
 },
 "nbformat": 4,
 "nbformat_minor": 4
}
